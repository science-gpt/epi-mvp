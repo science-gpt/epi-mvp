{
 "cells": [
  {
   "cell_type": "code",
   "execution_count": 1,
   "metadata": {},
   "outputs": [
    {
     "name": "stderr",
     "output_type": "stream",
     "text": [
      "/home/areel/workspace/pmra/Glyphosate-chatbopt/pmra/lib/python3.12/site-packages/tqdm/auto.py:21: TqdmWarning: IProgress not found. Please update jupyter and ipywidgets. See https://ipywidgets.readthedocs.io/en/stable/user_install.html\n",
      "  from .autonotebook import tqdm as notebook_tqdm\n"
     ]
    }
   ],
   "source": [
    "import pymupdf\n",
    "from sentence_transformers import SentenceTransformer\n",
    "import faiss\n",
    "import nltk\n",
    "from dotenv import load_dotenv\n",
    "import cohere\n",
    "import os"
   ]
  },
  {
   "cell_type": "code",
   "execution_count": 2,
   "metadata": {},
   "outputs": [],
   "source": [
    "load_dotenv()\n",
    "co = cohere.Client(os.environ[\"COHERE_API_KEY\"])"
   ]
  },
  {
   "cell_type": "code",
   "execution_count": 3,
   "metadata": {},
   "outputs": [],
   "source": [
    "# Function to extract text from PDF\n",
    "def extract_text_from_pdf(pdf_path):\n",
    "    doc = pymupdf.open(pdf_path)\n",
    "    text = \"\"\n",
    "    for page_num in range(doc.page_count):\n",
    "        page = doc.load_page(page_num)\n",
    "        text += page.get_text()\n",
    "    return text"
   ]
  },
  {
   "cell_type": "code",
   "execution_count": 4,
   "metadata": {},
   "outputs": [],
   "source": [
    "def split_text_into_sentences(text):\n",
    "    sentences = nltk.sent_tokenize(text)\n",
    "    return sentences"
   ]
  },
  {
   "cell_type": "code",
   "execution_count": 5,
   "metadata": {},
   "outputs": [],
   "source": [
    "# Function to embed text using sentence-transformers\n",
    "def embed_text(text, model_name='all-MiniLM-L6-v2'):\n",
    "    model = SentenceTransformer(model_name)\n",
    "    sentences = split_text_into_sentences(text)\n",
    "    embeddings = model.encode(sentences)\n",
    "    return sentences, embeddings"
   ]
  },
  {
   "cell_type": "code",
   "execution_count": 6,
   "metadata": {},
   "outputs": [],
   "source": [
    "# Function to build FAISS index\n",
    "def build_faiss_index(embeddings):\n",
    "    dimension = embeddings.shape[1]\n",
    "    index = faiss.IndexFlatL2(dimension)\n",
    "    index.add(embeddings)\n",
    "    return index"
   ]
  },
  {
   "cell_type": "code",
   "execution_count": 7,
   "metadata": {},
   "outputs": [],
   "source": [
    "# Function to query FAISS index\n",
    "def query_faiss_index(index, query_text, model, sentences, top_k=5):\n",
    "    query_embedding = model.encode([query_text])\n",
    "    _, indices = index.search(query_embedding, top_k)\n",
    "    results = [(sentences[i]) for i in indices[0]]\n",
    "    return results"
   ]
  },
  {
   "cell_type": "code",
   "execution_count": 8,
   "metadata": {},
   "outputs": [],
   "source": [
    "# Main function to demonstrate the process\n",
    "def retrieval(pdf_path, queries):\n",
    "    # Step 1: Extract text from PDF\n",
    "    text = extract_text_from_pdf(pdf_path)\n",
    "    \n",
    "    # Step 2: Embed text into vectors\n",
    "    sentences, embeddings = embed_text(text)\n",
    "    \n",
    "    # Step 3: Build FAISS index\n",
    "    index = build_faiss_index(embeddings)\n",
    "    \n",
    "    # Step 4: Query the index\n",
    "    model = SentenceTransformer('all-MiniLM-L6-v2')\n",
    "    docs = []\n",
    "    for query in queries:\n",
    "        results = query_faiss_index(index, query, model, sentences)\n",
    "        for doc in results:\n",
    "            docs.append({\"snippet\": doc})\n",
    "    \n",
    "    # Print the results\n",
    "    return docs"
   ]
  },
  {
   "cell_type": "code",
   "execution_count": 9,
   "metadata": {},
   "outputs": [],
   "source": [
    "def generate_search_queries(query):\n",
    "    queries = co.chat(\n",
    "            message=query,\n",
    "            search_queries_only=True\n",
    "        )\n",
    "    return [query.text for query in queries.search_queries]"
   ]
  },
  {
   "cell_type": "code",
   "execution_count": 10,
   "metadata": {},
   "outputs": [],
   "source": [
    "def respond(query, pdf_path):\n",
    "    search_queries = generate_search_queries(query)\n",
    "    docs = retrieval(pdf_path, search_queries)\n",
    "    response = co.chat(\n",
    "            model=\"command-r\",\n",
    "            message=query,\n",
    "            documents=docs\n",
    "        )\n",
    "    return response"
   ]
  },
  {
   "cell_type": "code",
   "execution_count": 15,
   "metadata": {},
   "outputs": [
    {
     "name": "stderr",
     "output_type": "stream",
     "text": [
      "/home/areel/workspace/pmra/Glyphosate-chatbopt/pmra/lib/python3.12/site-packages/huggingface_hub/file_download.py:1132: FutureWarning: `resume_download` is deprecated and will be removed in version 1.0.0. Downloads always resume when possible. If you want to force a new download, use `force_download=True`.\n",
      "  warnings.warn(\n"
     ]
    }
   ],
   "source": [
    "pdf_path = \"Glyphosate.pdf\"\n",
    "query_text = \"What was the overall conclusion with respect to glyphosate and risk of NHL\"\n",
    "response = respond(query_text, pdf_path)"
   ]
  },
  {
   "cell_type": "code",
   "execution_count": 16,
   "metadata": {},
   "outputs": [
    {
     "name": "stdout",
     "output_type": "stream",
     "text": [
      "Multiple studies have examined the relationship between exposure to glyphosate, a common pesticide, and the risk of developing Non-Hodgkin's Lymphoma (NHL). Some studies suggest that there is a significant elevated risk of NHL associated with glyphosate use, especially with longer exposure durations. For instance, one study reported an elevated risk of NHL for ever-use of glyphosate (OR: 2.02) and especially for use longer than 10 days per year (OR: 2.36). Other studies, however, have not found a relationship between ever-use of glyphosate and NHL. \n",
      "\n",
      "Overall, there is some evidence suggesting a positive association between glyphosate exposure and the risk of NHL, especially for more frequent or longer-term use.\n"
     ]
    }
   ],
   "source": [
    "print(response.text)"
   ]
  }
 ],
 "metadata": {
  "kernelspec": {
   "display_name": "pmra",
   "language": "python",
   "name": "python3"
  },
  "language_info": {
   "codemirror_mode": {
    "name": "ipython",
    "version": 3
   },
   "file_extension": ".py",
   "mimetype": "text/x-python",
   "name": "python",
   "nbconvert_exporter": "python",
   "pygments_lexer": "ipython3",
   "version": "3.12.2"
  }
 },
 "nbformat": 4,
 "nbformat_minor": 2
}
